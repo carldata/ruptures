{
 "cells": [
  {
   "cell_type": "markdown",
   "metadata": {},
   "source": [
    "# Music segmentation\n",
    "\n",
    "## Introduction\n",
    "\n",
    "In the current example, we showcase how `ruptures` can be used in order to detect change point within a music soundtrack and separate it into several contiguous segments. \n",
    "\n",
    "In order to do so, we run `ruptures` segmentation algorythms on two different set of features : \n",
    "\n",
    "* A chromagram, that maps the input signal into an usually 12 features space representing the classical 12 pitch classes\n",
    "* A tempogram computed based on the onset strength envelope of the input signal, that captures the tempo spectrum \n",
    "\n",
    "By doing so, we provide two various ways of segmenting a music soundtrack depending on two different representations of the information carried by the input signal, respectively : \n",
    "\n",
    "* An harmonic spectral representation\n",
    "* A rhythmic representation\n",
    "\n",
    "Many thanks to the creators and maintainers of the [librosa package](https://librosa.org/doc/latest/index.html) for providing :\n",
    "\n",
    "* a simple and clean way of loading some music data\n",
    "* some methods for perform meaningful feature engineering\n",
    "\n"
   ]
  },
  {
   "cell_type": "markdown",
   "metadata": {},
   "source": [
    "## Setup\n",
    "\n",
    "First, we make the necessary imports"
   ]
  },
  {
   "cell_type": "code",
   "execution_count": null,
   "metadata": {},
   "outputs": [],
   "source": [
    "import librosa\n",
    "import librosa.display\n",
    "import matplotlib.pyplot as plt\n",
    "from itertools import product, chain\n",
    "import numpy as np\n",
    "import ruptures as rpt  # out package"
   ]
  },
  {
   "cell_type": "markdown",
   "metadata": {},
   "source": [
    "## Load the data\n",
    "\n",
    "[Librosa](https://librosa.org/doc/latest/index.html) package offers several soundtracks. We run the example with the `nutcracker` one which corresponds to `Tchaikovsky - Dance of the Sugar Plum Fairy`. See [here](https://librosa.org/doc/latest/recordings.html#description-of-examples) for a description of all other possibilities. "
   ]
  },
  {
   "cell_type": "code",
   "execution_count": null,
   "metadata": {},
   "outputs": [],
   "source": [
    "# Limits the duration of the soundtack to be loaded\n",
    "duration = 30\n",
    "y, sampling_rate = librosa.load(librosa.ex(\"nutcracker\"), duration=duration)"
   ]
  },
  {
   "cell_type": "markdown",
   "metadata": {},
   "source": [
    "## Compute features\n",
    "\n",
    "### Chromagram"
   ]
  },
  {
   "cell_type": "code",
   "execution_count": null,
   "metadata": {},
   "outputs": [],
   "source": [
    "# Number of samples between successive chroma frames\n",
    "hop_length = 512\n",
    "# Number of chroma bins to produce\n",
    "nb_chroma = 12\n",
    "# Compute de Chromagram using the usual 12 chromas\n",
    "# chromagram of shape [nb_chroma, np.ceil(duration*sampling_rate/hop_length)]\n",
    "chromagram = librosa.feature.chroma_cqt(\n",
    "    y=y, sr=sampling_rate, hop_length=hop_length, n_chroma=nb_chroma\n",
    ")"
   ]
  },
  {
   "cell_type": "markdown",
   "metadata": {},
   "source": [
    "### Tempogram"
   ]
  },
  {
   "cell_type": "code",
   "execution_count": null,
   "metadata": {},
   "outputs": [],
   "source": [
    "# Length of the onset autocorrelation window (in frames)\n",
    "win_length = 384\n",
    "# Compute the onset strength\n",
    "oenv = librosa.onset.onset_strength(y=y, sr=sampling_rate, hop_length=hop_length)\n",
    "# tempogram of shape [win_length, np.ceil(y.shape[0]/hop_length)]\n",
    "tempogram = librosa.feature.tempogram(\n",
    "    onset_envelope=oenv, sr=sampling_rate, hop_length=hop_length, win_length=win_length\n",
    ")"
   ]
  },
  {
   "cell_type": "markdown",
   "metadata": {},
   "source": [
    "## Compute and display segmentations"
   ]
  },
  {
   "cell_type": "code",
   "execution_count": null,
   "metadata": {},
   "outputs": [],
   "source": [
    "# We ask for 5 breaking points\n",
    "nb_bkps = 5\n",
    "\n",
    "algos = [rpt.BottomUp, rpt.Binseg]\n",
    "models = [\"l2\", \"l1\", \"rbf\"]  # \"l1\", \"rbf\", \"linear\", \"normal\", \"ar\"\n",
    "kernelCPD_algos = [rpt.KernelCPD]\n",
    "kernelCPD_kernels = [\"linear\", \"rbf\", \"cosine\"]\n",
    "\n",
    "model_objs = [(algo(model=model), model) for (algo, model) in product(algos, models)]\n",
    "for (algo, kernel) in product(kernelCPD_algos, kernelCPD_kernels):\n",
    "    model_objs.append((algo(kernel=kernel), kernel))\n",
    "\n",
    "nb_plots = len(models) * len(algos) + len(kernelCPD_kernels) * len(kernelCPD_algos) + 2\n",
    "fig, axs = plt.subplots(nrows=nb_plots, sharex=True, figsize=(8, 20), dpi=150)\n",
    "\n",
    "librosa.display.waveplot(y, sr=sampling_rate, ax=axs[0])\n",
    "axs[0].set(title=\"nutcracker\")\n",
    "axs[0].label_outer()\n",
    "\n",
    "for idx, (algo, cost) in zip(range(1, nb_plots), model_objs):\n",
    "    algo = algo.fit(chromagram.T)\n",
    "    rpt_bkps = algo.predict(n_bkps=nb_bkps)\n",
    "    # Make the break points \"compatible\" with librosa api\n",
    "    # it expects index 0 and not index of the last point\n",
    "    rpt_bkps.pop(-1)\n",
    "    rpt_bkps = [0] + rpt_bkps\n",
    "    # Translate index in the chromagram to time index in the original soundtrack\n",
    "    rpt_bpks_times = librosa.frames_to_time(rpt_bkps, sr=sampling_rate)\n",
    "    # Plot\n",
    "    librosa.display.specshow(\n",
    "        chromagram, y_axis=\"chroma\", x_axis=\"time\", ax=axs[idx], hop_length=hop_length\n",
    "    )\n",
    "    axs[idx].vlines(\n",
    "        rpt_bpks_times,\n",
    "        0,\n",
    "        chromagram.shape[0],\n",
    "        color=\"linen\",\n",
    "        linestyle=\"--\",\n",
    "        linewidth=1.5,\n",
    "        alpha=0.9,\n",
    "    )\n",
    "    axs[idx].set(title=f\"Algo : {type(algo).__name__}, Cost : {cost}\")\n",
    "    axs[idx].label_outer()\n",
    "\n",
    "algo = rpt.BottomUp(model=\"l2\").fit(chromagram.T)\n",
    "rpt_bkps = algo.predict(pen=50)\n",
    "# Make the break points \"compatible\" with librosa api\n",
    "# it expects index 0 and not index of the last point\n",
    "rpt_bkps.pop(-1)\n",
    "rpt_bkps = [0] + rpt_bkps\n",
    "# Translate index in the chromagram to time index in the original soundtrack\n",
    "rpt_bpks_times = librosa.frames_to_time(rpt_bkps, sr=sampling_rate)\n",
    "# Plot\n",
    "librosa.display.specshow(\n",
    "    chromagram,\n",
    "    y_axis=\"chroma\",\n",
    "    x_axis=\"time\",\n",
    "    ax=axs[nb_plots - 1],\n",
    "    hop_length=hop_length,\n",
    ")\n",
    "axs[nb_plots - 1].vlines(\n",
    "    rpt_bpks_times,\n",
    "    0,\n",
    "    chromagram.shape[0],\n",
    "    color=\"linen\",\n",
    "    linestyle=\"--\",\n",
    "    linewidth=1.5,\n",
    "    alpha=0.9,\n",
    ")\n",
    "axs[nb_plots - 1].set(title=f\"Algo : {type(algo).__name__}, Cost : l2\")\n",
    "axs[nb_plots - 1].label_outer()"
   ]
  },
  {
   "cell_type": "code",
   "execution_count": null,
   "metadata": {},
   "outputs": [],
   "source": [
    "# We ask for 5 breaking points\n",
    "nb_bkps = 5\n",
    "\n",
    "algos = [rpt.BottomUp, rpt.Binseg]\n",
    "models = [\"l2\", \"l1\", \"rbf\"]  # \"l1\", \"rbf\", \"linear\", \"normal\", \"ar\"\n",
    "kernelCPD_algos = [rpt.KernelCPD]\n",
    "kernelCPD_kernels = [\"linear\", \"rbf\", \"cosine\"]\n",
    "\n",
    "model_objs = [(algo(model=model), model) for (algo, model) in product(algos, models)]\n",
    "for (algo, kernel) in product(kernelCPD_algos, kernelCPD_kernels):\n",
    "    model_objs.append((algo(kernel=kernel), kernel))\n",
    "\n",
    "nb_plots = len(models) * len(algos) + len(kernelCPD_kernels) * len(kernelCPD_algos) + 3\n",
    "fig, axs = plt.subplots(nrows=nb_plots, sharex=True, figsize=(8, 20), dpi=150)\n",
    "\n",
    "times = librosa.times_like(oenv, sr=sampling_rate, hop_length=hop_length)\n",
    "librosa.display.waveplot(y, sr=sampling_rate, ax=axs[0])\n",
    "axs[0].set(title=\"nutcracker\")\n",
    "axs[0].label_outer()\n",
    "axs[1].plot(times, oenv, label=\"Onset strength\")\n",
    "axs[1].label_outer()\n",
    "axs[1].legend(frameon=True)\n",
    "\n",
    "for idx, (algo, cost) in zip(range(2, nb_plots), model_objs):\n",
    "    algo = algo.fit(tempogram.T)\n",
    "    rpt_bkps = algo.predict(n_bkps=nb_bkps)\n",
    "    # Make the break points \"compatible\" with librosa api\n",
    "    # it expects index 0 and not index of the last point\n",
    "    rpt_bkps.pop(-1)\n",
    "    rpt_bkps = [0] + rpt_bkps\n",
    "    # Translate index in the chromagram to time index in the original soundtrack\n",
    "    rpt_bpks_times = librosa.frames_to_time(rpt_bkps, sr=sampling_rate)\n",
    "    # Plot\n",
    "    librosa.display.specshow(\n",
    "        tempogram,\n",
    "        y_axis=\"tempo\",\n",
    "        x_axis=\"time\",\n",
    "        ax=axs[idx],\n",
    "        hop_length=hop_length,\n",
    "        sr=sampling_rate,\n",
    "        cmap=\"magma\",\n",
    "    )\n",
    "    axs[idx].vlines(\n",
    "        rpt_bpks_times, 16, 480, color=\"linen\", linestyle=\"--\", linewidth=1.5, alpha=0.9\n",
    "    )\n",
    "    axs[idx].set(title=f\"Algo : {type(algo).__name__}, Cost : {cost}\")\n",
    "    axs[idx].label_outer()\n",
    "\n",
    "algo = rpt.BottomUp(model=\"l2\").fit(chromagram.T)\n",
    "rpt_bkps = algo.predict(pen=50)\n",
    "# Make the break points \"compatible\" with librosa api\n",
    "# it expects index 0 and not index of the last point\n",
    "rpt_bkps.pop(-1)\n",
    "rpt_bkps = [0] + rpt_bkps\n",
    "# Translate index in the chromagram to time index in the original soundtrack\n",
    "rpt_bpks_times = librosa.frames_to_time(rpt_bkps, sr=sampling_rate)\n",
    "# Plot\n",
    "librosa.display.specshow(\n",
    "    tempogram,\n",
    "    y_axis=\"tempo\",\n",
    "    x_axis=\"time\",\n",
    "    ax=axs[nb_plots - 1],\n",
    "    hop_length=hop_length,\n",
    "    sr=sampling_rate,\n",
    "    cmap=\"magma\",\n",
    ")\n",
    "axs[nb_plots - 1].vlines(\n",
    "    rpt_bpks_times, 16, 480, color=\"linen\", linestyle=\"--\", linewidth=1.5, alpha=0.9\n",
    ")\n",
    "axs[nb_plots - 1].set(title=f\"Algo : {type(algo).__name__}, Cost : l2\")\n",
    "axs[nb_plots - 1].label_outer()"
   ]
  },
  {
   "cell_type": "code",
   "execution_count": null,
   "metadata": {},
   "outputs": [],
   "source": []
  }
 ],
 "metadata": {
  "kernelspec": {
   "display_name": "Python 3.6.8 64-bit ('ruptures')",
   "metadata": {
    "interpreter": {
     "hash": "059c4c073cf999c01cda7eb948fe0c7e3f2ee9a8e4c2f10f40f5946e9f258085"
    }
   },
   "name": "python3"
  },
  "language_info": {
   "codemirror_mode": {
    "name": "ipython",
    "version": 3
   },
   "file_extension": ".py",
   "mimetype": "text/x-python",
   "name": "python",
   "nbconvert_exporter": "python",
   "pygments_lexer": "ipython3",
   "version": "3.6.8-final"
  }
 },
 "nbformat": 4,
 "nbformat_minor": 2
}
