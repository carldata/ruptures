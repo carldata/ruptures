{
 "cells": [
  {
   "cell_type": "markdown",
   "metadata": {},
   "source": [
    "# Music segmentation\n",
    "\n",
    "## Introduction\n",
    "\n",
    "Music segmentation is an instance of change point detection and can be performed with `ruptures`.\n",
    "Roughly, it consists of finding the temporal boundaries of homogeneous segments, e.g. the intro, verse, chorus and outro in a song.\n",
    "\n",
    "To that end, the music track is transformer into an informative\n",
    "\n",
    "In order to do so, we run `ruptures` segmentation algorithms on two different set of features : \n",
    "\n",
    "* a chromagram, that maps the input signal into an usually 12 features space representing the classical 12 pitch classes;\n",
    "* a tempogram computed based on the onset strength envelope of the input signal, that captures the tempo spectrum.\n",
    "\n",
    "By doing so, we provide two various ways of segmenting a music soundtrack depending on two different representations of the information carried by the input signal, respectively:\n",
    "\n",
    "* an harmonic spectral representation,\n",
    "* a rhythmic representation.\n",
    "\n",
    "\n",
    "To load and manipulate sound data, we use the [librosa package](https://librosa.org/doc/latest/index.html)."
   ]
  },
  {
   "cell_type": "markdown",
   "metadata": {},
   "source": [
    "## Setup\n",
    "\n",
    "First, we make the necessary imports."
   ]
  },
  {
   "cell_type": "code",
   "execution_count": null,
   "metadata": {},
   "outputs": [],
   "source": [
    "from itertools import chain, product\n",
    "\n",
    "import librosa\n",
    "import librosa.display\n",
    "import matplotlib.pyplot as plt\n",
    "import numpy as np\n",
    "import ruptures as rpt  # our package\n",
    "from IPython.display import Audio"
   ]
  },
  {
   "cell_type": "markdown",
   "metadata": {},
   "source": [
    "## Load the data\n",
    "\n",
    "A number of music files are available in [Librosa](https://librosa.org/doc/latest/index.html).\n",
    "See [here](https://librosa.org/doc/latest/recordings.html#description-of-examples) for a complete list.\n",
    "In this example, we choose the *Dance of the Sugar Plum Fairy* from *The Nutcracker* by Tchaikovsky. "
   ]
  },
  {
   "cell_type": "code",
   "execution_count": null,
   "metadata": {},
   "outputs": [],
   "source": [
    "duration = 30  # in seconds\n",
    "y, sampling_rate = librosa.load(librosa.ex(\"nutcracker\"), duration=duration)\n",
    "Audio(data=y, rate=sampling_rate)"
   ]
  },
  {
   "cell_type": "markdown",
   "metadata": {},
   "source": [
    "## Compute features\n",
    "\n",
    "### Chromagram"
   ]
  },
  {
   "cell_type": "code",
   "execution_count": null,
   "metadata": {},
   "outputs": [],
   "source": [
    "# Number of samples between successive chroma frames\n",
    "hop_length = 512\n",
    "# Number of chroma bins to produce\n",
    "n_chroma = 12\n",
    "# Compute de Chromagram using the usual 12 chromas\n",
    "# chromagram of shape [n_chroma, np.ceil(duration*sampling_rate/hop_length)]\n",
    "chromagram = librosa.feature.chroma_cqt(\n",
    "    y=y, sr=sampling_rate, hop_length=hop_length, n_chroma=n_chroma\n",
    ")"
   ]
  },
  {
   "cell_type": "markdown",
   "metadata": {},
   "source": [
    "### Tempogram"
   ]
  },
  {
   "cell_type": "code",
   "execution_count": null,
   "metadata": {},
   "outputs": [],
   "source": [
    "# Length of the onset autocorrelation window (in frames)\n",
    "win_length = 384\n",
    "# Compute the onset strength\n",
    "oenv = librosa.onset.onset_strength(y=y, sr=sampling_rate, hop_length=hop_length)\n",
    "# tempogram of shape [win_length, np.ceil(y.shape[0]/hop_length)]\n",
    "tempogram = librosa.feature.tempogram(\n",
    "    onset_envelope=oenv, sr=sampling_rate, hop_length=hop_length, win_length=win_length\n",
    ")"
   ]
  },
  {
   "cell_type": "markdown",
   "metadata": {},
   "source": [
    "## Compute and display segmentations"
   ]
  },
  {
   "cell_type": "code",
   "execution_count": null,
   "metadata": {},
   "outputs": [],
   "source": [
    "# We ask for 5 breaking points\n",
    "n_bkps = 5\n",
    "\n",
    "algos = [rpt.BottomUp, rpt.Binseg]\n",
    "models = [\"l2\", \"l1\", \"rbf\"]  # \"l1\", \"rbf\", \"linear\", \"normal\", \"ar\"\n",
    "kernelCPD_algos = [rpt.KernelCPD]\n",
    "kernelCPD_kernels = [\"linear\", \"rbf\", \"cosine\"]\n",
    "\n",
    "model_objs = [(algo(model=model), model) for (algo, model) in product(algos, models)]\n",
    "for (algo, kernel) in product(kernelCPD_algos, kernelCPD_kernels):\n",
    "    model_objs.append((algo(kernel=kernel), kernel))\n",
    "\n",
    "n_plots = len(models) * len(algos) + len(kernelCPD_kernels) * len(kernelCPD_algos) + 2\n",
    "fig, axs = plt.subplots(nrows=n_plots, sharex=True, figsize=(8, 20), dpi=150)\n",
    "\n",
    "librosa.display.waveplot(y, sr=sampling_rate, ax=axs[0])\n",
    "axs[0].set(title=\"nutcracker\")\n",
    "axs[0].label_outer()\n",
    "\n",
    "for idx, (algo, cost) in zip(range(1, n_plots), model_objs):\n",
    "    algo = algo.fit(chromagram.T)\n",
    "    rpt_bkps = algo.predict(n_bkps=n_bkps)\n",
    "    # Make the break points \"compatible\" with librosa api\n",
    "    # it expects index 0 and not index of the last point\n",
    "    rpt_bkps.pop(-1)\n",
    "    rpt_bkps = [0] + rpt_bkps\n",
    "    # Translate index in the chromagram to time index in the original soundtrack\n",
    "    rpt_bpks_times = librosa.frames_to_time(rpt_bkps, sr=sampling_rate)\n",
    "    # Plot\n",
    "    librosa.display.specshow(\n",
    "        chromagram, y_axis=\"chroma\", x_axis=\"time\", ax=axs[idx], hop_length=hop_length\n",
    "    )\n",
    "    axs[idx].vlines(\n",
    "        rpt_bpks_times,\n",
    "        0,\n",
    "        chromagram.shape[0],\n",
    "        color=\"linen\",\n",
    "        linestyle=\"--\",\n",
    "        linewidth=1.5,\n",
    "        alpha=0.9,\n",
    "    )\n",
    "    axs[idx].set(title=f\"Algo : {type(algo).__name__}, Cost : {cost}\")\n",
    "    axs[idx].label_outer()\n",
    "\n",
    "algo = rpt.BottomUp(model=\"l2\").fit(chromagram.T)\n",
    "rpt_bkps = algo.predict(pen=50)\n",
    "# Make the break points \"compatible\" with librosa api\n",
    "# it expects index 0 and not index of the last point\n",
    "rpt_bkps.pop(-1)\n",
    "rpt_bkps = [0] + rpt_bkps\n",
    "# Translate index in the chromagram to time index in the original soundtrack\n",
    "rpt_bpks_times = librosa.frames_to_time(rpt_bkps, sr=sampling_rate)\n",
    "# Plot\n",
    "librosa.display.specshow(\n",
    "    chromagram,\n",
    "    y_axis=\"chroma\",\n",
    "    x_axis=\"time\",\n",
    "    ax=axs[n_plots - 1],\n",
    "    hop_length=hop_length,\n",
    ")\n",
    "axs[n_plots - 1].vlines(\n",
    "    rpt_bpks_times,\n",
    "    0,\n",
    "    chromagram.shape[0],\n",
    "    color=\"linen\",\n",
    "    linestyle=\"--\",\n",
    "    linewidth=1.5,\n",
    "    alpha=0.9,\n",
    ")\n",
    "axs[n_plots - 1].set(title=f\"Algo : {type(algo).__name__}, Cost : l2\")\n",
    "axs[n_plots - 1].label_outer()"
   ]
  },
  {
   "cell_type": "code",
   "execution_count": null,
   "metadata": {},
   "outputs": [],
   "source": [
    "# We ask for 5 breaking points\n",
    "n_bkps = 5\n",
    "\n",
    "algos = [rpt.BottomUp, rpt.Binseg]\n",
    "models = [\"l2\", \"l1\", \"rbf\"]  # \"l1\", \"rbf\", \"linear\", \"normal\", \"ar\"\n",
    "kernelCPD_algos = [rpt.KernelCPD]\n",
    "kernelCPD_kernels = [\"linear\", \"rbf\", \"cosine\"]\n",
    "\n",
    "model_objs = [(algo(model=model), model) for (algo, model) in product(algos, models)]\n",
    "for (algo, kernel) in product(kernelCPD_algos, kernelCPD_kernels):\n",
    "    model_objs.append((algo(kernel=kernel), kernel))\n",
    "\n",
    "n_plots = len(models) * len(algos) + len(kernelCPD_kernels) * len(kernelCPD_algos) + 3\n",
    "fig, axs = plt.subplots(nrows=n_plots, sharex=True, figsize=(8, 20), dpi=150)\n",
    "\n",
    "times = librosa.times_like(oenv, sr=sampling_rate, hop_length=hop_length)\n",
    "librosa.display.waveplot(y, sr=sampling_rate, ax=axs[0])\n",
    "axs[0].set(title=\"nutcracker\")\n",
    "axs[0].label_outer()\n",
    "axs[1].plot(times, oenv, label=\"Onset strength\")\n",
    "axs[1].label_outer()\n",
    "axs[1].legend(frameon=True)\n",
    "\n",
    "for idx, (algo, cost) in zip(range(2, n_plots), model_objs):\n",
    "    algo = algo.fit(tempogram.T)\n",
    "    rpt_bkps = algo.predict(n_bkps=n_bkps)\n",
    "    # Make the break points \"compatible\" with librosa api\n",
    "    # it expects index 0 and not index of the last point\n",
    "    rpt_bkps.pop(-1)\n",
    "    rpt_bkps = [0] + rpt_bkps\n",
    "    # Translate index in the chromagram to time index in the original soundtrack\n",
    "    rpt_bpks_times = librosa.frames_to_time(rpt_bkps, sr=sampling_rate)\n",
    "    # Plot\n",
    "    librosa.display.specshow(\n",
    "        tempogram,\n",
    "        y_axis=\"tempo\",\n",
    "        x_axis=\"time\",\n",
    "        ax=axs[idx],\n",
    "        hop_length=hop_length,\n",
    "        sr=sampling_rate,\n",
    "        cmap=\"magma\",\n",
    "    )\n",
    "    axs[idx].vlines(\n",
    "        rpt_bpks_times, 16, 480, color=\"linen\", linestyle=\"--\", linewidth=1.5, alpha=0.9\n",
    "    )\n",
    "    axs[idx].set(title=f\"Algo : {type(algo).__name__}, Cost : {cost}\")\n",
    "    axs[idx].label_outer()\n",
    "\n",
    "algo = rpt.BottomUp(model=\"l2\").fit(chromagram.T)\n",
    "rpt_bkps = algo.predict(pen=50)\n",
    "# Make the break points \"compatible\" with librosa api\n",
    "# it expects index 0 and not index of the last point\n",
    "# Translate index in the chromagram to time index in the original soundtrack\n",
    "rpt_bpks_times = librosa.frames_to_time([0] + rpt_bkps[:-1], sr=sampling_rate)\n",
    "# Plot\n",
    "librosa.display.specshow(\n",
    "    tempogram,\n",
    "    y_axis=\"tempo\",\n",
    "    x_axis=\"time\",\n",
    "    ax=axs[n_plots - 1],\n",
    "    hop_length=hop_length,\n",
    "    sr=sampling_rate,\n",
    "    cmap=\"magma\",\n",
    ")\n",
    "axs[n_plots - 1].vlines(\n",
    "    rpt_bpks_times, 16, 480, color=\"linen\", linestyle=\"--\", linewidth=1.5, alpha=0.9\n",
    ")\n",
    "axs[n_plots - 1].set(title=f\"Algo : {type(algo).__name__}, Cost : l2\")\n",
    "axs[n_plots - 1].label_outer()"
   ]
  },
  {
   "cell_type": "markdown",
   "metadata": {},
   "source": [
    "## Study each segment independently\n",
    "\n",
    "Each segment of the music can be characterized by a set of features."
   ]
  },
  {
   "cell_type": "code",
   "execution_count": null,
   "metadata": {},
   "outputs": [],
   "source": [
    "sampling_rate, bkps_times / sampling_rate"
   ]
  },
  {
   "cell_type": "code",
   "execution_count": null,
   "metadata": {},
   "outputs": [],
   "source": [
    "fig, ax = plt.subplots(figsize=(8, 8))\n",
    "\n",
    "for (segment_number, segment) in enumerate(\n",
    "    np.split(chromagram.T, rpt_bkps[:-1]), start=1\n",
    "):\n",
    "    ax.plot(segment.mean(axis=0), \"-*\", label=f\"Segment n°{segment_number}\")\n",
    "_ = plt.legend()\n",
    "\n",
    "\n",
    "bkps_times = (rpt_bpks_times * sampling_rate).astype(int)[1:]\n",
    "for (segment_number, segment) in enumerate(np.split(y, bkps_times), start=1):\n",
    "    print(f\"Segment n°{segment_number}\")\n",
    "    display(Audio(data=segment, rate=sampling_rate))"
   ]
  }
 ],
 "metadata": {
  "kernelspec": {
   "display_name": "rpt-dev",
   "language": "python",
   "name": "rpt-dev"
  },
  "language_info": {
   "codemirror_mode": {
    "name": "ipython",
    "version": 3
   },
   "file_extension": ".py",
   "mimetype": "text/x-python",
   "name": "python",
   "nbconvert_exporter": "python",
   "pygments_lexer": "ipython3",
   "version": "3.9.1"
  },
  "toc-autonumbering": false
 },
 "nbformat": 4,
 "nbformat_minor": 4
}
