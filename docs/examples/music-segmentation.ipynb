{
 "cells": [
  {
   "cell_type": "markdown",
   "metadata": {},
   "source": [
    "# Music segmentation\n",
    "\n",
    "<!-- {{ add_binder_block(page) }} -->\n",
    "\n",
    "## Introduction\n",
    "\n",
    "Music segmentation can be seen as a change point detection task and therefore can be carried out with `ruptures`.\n",
    "Roughly, it consists in finding the temporal boundaries of homogeneous segments, e.g. the intro, verse, chorus and outro in a song.\n",
    "\n",
    "The adopted approach is summarized as follows:\n",
    "\n",
    "- the original sound is transformed into an informative (multivariate) representation;\n",
    "- mean shifts are detected in this new representation using a dynamic programming approach.\n",
    "\n",
    "In this example, we use the well-known tempogram representation, which is based on the onset strength envelope of the input signal, and captures the tempo spectrum [[Grosche2010]](Grosche2010).\n",
    "\n",
    "To load and manipulate sound data, we use the [librosa package](https://librosa.org/doc/latest/index.html) [[McFee2015]](McFee2015)."
   ]
  },
  {
   "cell_type": "markdown",
   "metadata": {},
   "source": [
    "### Setup\n",
    "\n",
    "First, we make the necessary imports."
   ]
  },
  {
   "cell_type": "code",
   "execution_count": null,
   "metadata": {},
   "outputs": [],
   "source": [
    "import librosa\n",
    "import librosa.display\n",
    "import matplotlib.pyplot as plt\n",
    "import numpy as np\n",
    "import ruptures as rpt  # our package\n",
    "from IPython.display import Audio, display"
   ]
  },
  {
   "cell_type": "markdown",
   "metadata": {},
   "source": [
    "We can also define a utility function."
   ]
  },
  {
   "cell_type": "code",
   "execution_count": null,
   "metadata": {},
   "outputs": [],
   "source": [
    "def fig_ax(figsize=(15, 5)):\n",
    "    \"\"\"Return a (matplotlib) figure and ax objects with given size.\"\"\"\n",
    "    return plt.subplots(figsize=figsize)"
   ]
  },
  {
   "cell_type": "markdown",
   "metadata": {},
   "source": [
    "### Load the data\n",
    "\n",
    "A number of music files are available in [Librosa](https://librosa.org/doc/latest/index.html).\n",
    "See [here](https://librosa.org/doc/latest/recordings.html#description-of-examples) for a complete list.\n",
    "In this example, we choose the *Dance of the Sugar Plum Fairy* from *The Nutcracker* by Tchaikovsky.\n",
    "\n",
    "We can listen to the music as well as display the sound envelope."
   ]
  },
  {
   "cell_type": "code",
   "execution_count": null,
   "metadata": {},
   "outputs": [],
   "source": [
    "duration = 30  # in seconds\n",
    "signal, sampling_rate = librosa.load(librosa.ex(\"nutcracker\"), duration=duration)\n",
    "\n",
    "# listen to the music\n",
    "display(Audio(data=signal, rate=sampling_rate))\n",
    "\n",
    "# look at the envelope\n",
    "fig, ax = fig_ax()\n",
    "ax.plot(np.arange(signal.size) / sampling_rate, signal)\n",
    "ax.set_xlim(0, signal.size / sampling_rate)\n",
    "ax.set_xlabel(\"Time (s)\")\n",
    "_ = ax.set(title=\"Sound envelope\")"
   ]
  },
  {
   "cell_type": "markdown",
   "metadata": {},
   "source": [
    "## Signal segmentation\n",
    "\n",
    "### Transform the signal into a tempogram"
   ]
  },
  {
   "cell_type": "code",
   "execution_count": null,
   "metadata": {},
   "outputs": [],
   "source": [
    "# Compute the onset strength\n",
    "hop_length_tempo = 256\n",
    "oenv = librosa.onset.onset_strength(\n",
    "    y=signal, sr=sampling_rate, hop_length=hop_length_tempo\n",
    ")\n",
    "tempogram = librosa.feature.tempogram(\n",
    "    onset_envelope=oenv,\n",
    "    sr=sampling_rate,\n",
    "    hop_length=hop_length_tempo,\n",
    ")\n",
    "# Display the tempogram\n",
    "fig, ax = fig_ax()\n",
    "_ = librosa.display.specshow(\n",
    "    tempogram,\n",
    "    ax=ax,\n",
    "    hop_length=hop_length_tempo,\n",
    "    sr=sampling_rate,\n",
    "    x_axis=\"s\",\n",
    "    y_axis=\"tempo\",\n",
    ")"
   ]
  },
  {
   "cell_type": "markdown",
   "metadata": {},
   "source": [
    "### Choice of the detection algorithm\n",
    "\n",
    "We choose to detect changes in the mean of the tempogram, which is a multivariate signal.\n",
    "This amounts to selecting the $L_2$ cost function (see [CostL2](../../user-guide/costs/costl2)).\n",
    "To that end, two methods are available in `ruptures`:\n",
    "\n",
    "- `rpt.Dynp(model=\"l2\")`\n",
    "- `rpt.KernelCPD(kernel=\"linear\")`\n",
    "\n",
    "Both will return the same results but the latter is implemented in C and therefore significatively faster.\n",
    "\n",
    "### Choice of the number of changes\n",
    "In order to choose the number of change points, we use the elbow method.\n",
    "In the change point detection setting, this heuritic consists in:\n",
    "\n",
    "- plotting the sum of costs for 1, 2,...,$K_{\\text{max}}$ change points,\n",
    "- picking the number of changes at the \"elbow\" of the curve.\n",
    "\n",
    "Here, we set $K_{\\text{max}}$:=20.\n",
    "\n",
    "!!! note\n",
    "    In `rpt.Dynp` and `rpt.KernelCPD`, whenever a segmentation with $K$ changes is computed, all segmentations with 1,2,..., $K-1$ are also computed and stored.\n",
    "    Indeed, thanks to the dynamic programming approach, segmentations with less changes are avalaible for free as intermediate calculations.\n",
    "    Therefore, users who need to compute segmentations with several numbers of changes should start with the one with the most changes.\n",
    "\n",
    "In addition, note that, in `ruptures`, the sum of costs of a segmentation defined by a set of change points `bkps` can easily be computed using:\n",
    "\n",
    "```python\n",
    "algo = rpt.KernelCPD(kernel=\"linear\").fit(signal)\n",
    "algo.cost.sum_of_costs(bkps)\n",
    "```\n",
    "(Replace `rpt.KernelCPD` by the algorithm you are actually using, if different.)\n",
    "\n"
   ]
  },
  {
   "cell_type": "code",
   "execution_count": null,
   "metadata": {},
   "outputs": [],
   "source": [
    "# Choose detection method\n",
    "algo = rpt.KernelCPD(kernel=\"linear\").fit(tempogram.T)\n",
    "\n",
    "# Choose the number of changes (elbow heuristic)\n",
    "n_bkps_max = 20  # K_max\n",
    "# Start by computing the segmentation with most changes.\n",
    "# After start, all segmentations with 1, 2,..., K_max-1 changes are available for free\n",
    "_ = algo.predict(n_bkps_max)\n",
    "\n",
    "array_of_n_bkps = np.arange(1, n_bkps_max + 1)\n",
    "\n",
    "\n",
    "def get_sum_of_cost(n_bkps):\n",
    "    bkps = algo.predict(n_bkps=n_bkps)\n",
    "    return algo.cost.sum_of_costs(bkps)\n",
    "\n",
    "\n",
    "fig, ax = fig_ax((7, 4))\n",
    "ax.plot(\n",
    "    array_of_n_bkps,\n",
    "    [get_sum_of_cost(n_bkps=n_bkps) for n_bkps in array_of_n_bkps],\n",
    "    \"-*\",\n",
    "    alpha=0.5,\n",
    ")\n",
    "ax.set_xticks(array_of_n_bkps)\n",
    "ax.set_xlabel(\"Number of change points\")\n",
    "ax.set_title(\"Sum of costs\")\n",
    "ax.grid(axis=\"x\")\n",
    "ax.set_xlim(0, n_bkps_max)\n",
    "\n",
    "# Visually we choose n_bkps=5 (highlighted in red on the elbow plot)\n",
    "n_bkps = 5\n",
    "_ = ax.scatter([5], [get_sum_of_cost(n_bkps=5)], color=\"r\", s=100)"
   ]
  },
  {
   "cell_type": "markdown",
   "metadata": {},
   "source": [
    "**Visually, we choose 5 change points** (highlighted in red on the elbow plot).\n",
    "\n",
    "We can now compute the segmentation of the tempogram, and display the results."
   ]
  },
  {
   "cell_type": "code",
   "execution_count": null,
   "metadata": {},
   "outputs": [],
   "source": [
    "# Segmentation\n",
    "bkps = algo.predict(n_bkps=n_bkps)\n",
    "# Convert the estimated change points (frame counts) to actual timestamps\n",
    "bkps_times = librosa.frames_to_time(bkps, sr=sampling_rate, hop_length=hop_length_tempo)\n",
    "\n",
    "# Displaying results\n",
    "fig, ax = fig_ax()\n",
    "_ = librosa.display.specshow(\n",
    "    tempogram,\n",
    "    ax=ax,\n",
    "    x_axis=\"s\",\n",
    "    y_axis=\"tempo\",\n",
    "    hop_length=hop_length_tempo,\n",
    "    sr=sampling_rate,\n",
    ")\n",
    "\n",
    "for b in bkps_times[:-1]:\n",
    "    ax.axvline(b, ls=\"--\", color=\"white\", lw=4)"
   ]
  },
  {
   "cell_type": "markdown",
   "metadata": {},
   "source": [
    "We can now listen to the homogeneous segments (from a tempo standpoint) between two change points."
   ]
  },
  {
   "cell_type": "code",
   "execution_count": null,
   "metadata": {},
   "outputs": [],
   "source": [
    "bkps_time_indexes = (sampling_rate * bkps_times).astype(int).tolist()\n",
    "\n",
    "for (segment_number, (start, end)) in enumerate(\n",
    "    rpt.utils.pairwise([0] + bkps_time_indexes), start=1\n",
    "):\n",
    "    segment = signal[start:end]\n",
    "    print(f\"Segment n°{segment_number} (duration: {segment.size/sampling_rate:.2f} s)\")\n",
    "    display(Audio(data=segment, rate=sampling_rate))"
   ]
  },
  {
   "cell_type": "markdown",
   "metadata": {},
   "source": [
    "## Conclusion\n",
    "\n",
    "TODO"
   ]
  },
  {
   "cell_type": "markdown",
   "metadata": {},
   "source": [
    "## References\n",
    "\n",
    "<a id=\"Grosche2010\">[Grosche2010]</a>\n",
    "Grosche, P., Müller, M., & Kurth, F. (2010). Cyclic tempogram - a mid-level tempo representation for music signals. Proceedings of the IEEE International Conference on Acoustics, Speech and Signal Processing (ICASSP), 5522–5525.\n",
    "\n",
    "<a id=\"McFee2015\">[McFee2015]</a>\n",
    "McFee, B., Raffel, C., Liang, D., Ellis, D. P. W., McVicar, M., Battenberg, E., & Nieto, O. (2015). librosa: audio and music signal analysis in Python. Proceedings of the Python in Science Conference, 8, 18–25.\n"
   ]
  }
 ],
 "metadata": {
  "kernelspec": {
   "display_name": "rpt-dev",
   "language": "python",
   "name": "rpt-dev"
  },
  "language_info": {
   "codemirror_mode": {
    "name": "ipython",
    "version": 3
   },
   "file_extension": ".py",
   "mimetype": "text/x-python",
   "name": "python",
   "nbconvert_exporter": "python",
   "pygments_lexer": "ipython3",
   "version": "3.9.1"
  },
  "toc-autonumbering": false
 },
 "nbformat": 4,
 "nbformat_minor": 4
}
